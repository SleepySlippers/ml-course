{
 "cells": [
  {
   "cell_type": "markdown",
   "metadata": {},
   "source": [
    "Before you submit this notebook, make sure everything runs as expected in the local test cases. \n",
    "Please, paste the solution to the designed cell and do not change anything else.\n",
    "\n",
    "Also, please, leave your first and last names below"
   ]
  },
  {
   "cell_type": "code",
   "execution_count": null,
   "metadata": {},
   "outputs": [],
   "source": [
    "FirstName = \"Arseny\"\n",
    "LastName = \"Staroverov\""
   ]
  },
  {
   "cell_type": "markdown",
   "metadata": {},
   "source": [
    "---"
   ]
  },
  {
   "cell_type": "code",
   "execution_count": null,
   "metadata": {},
   "outputs": [],
   "source": [
    "from sklearn.base import BaseEstimator, ClassifierMixin\n",
    "from sklearn.metrics import accuracy_score\n",
    "\n",
    "import numpy as np\n",
    "import torch\n",
    "import torch.nn as nn\n",
    "import torch.optim as optim\n",
    "\n",
    "from scipy.spatial.distance import cdist # You can use this for rbf kernel\n",
    "\n",
    "import unittest\n",
    "import sys\n",
    "import io"
   ]
  },
  {
   "cell_type": "code",
   "execution_count": null,
   "metadata": {
    "deletable": false,
    "nbgrader": {
     "cell_type": "code",
     "checksum": "1dfd5431f2494f8f56c119aaae6805ca",
     "grade": false,
     "grade_id": "cell-7bfbe050819ecfac",
     "locked": false,
     "schema_version": 3,
     "solution": true,
     "task": false
    }
   },
   "outputs": [],
   "source": [
    "def rbf(x_1, x_2, sigma=1.):\n",
    "    '''Computes rbf kernel for batches of objects\n",
    "\n",
    "    Args:\n",
    "        x_1: torch.tensor shaped `(#samples_1, #features)` of type torch.float32\n",
    "        x_2: torch.tensor shaped `(#samples_1, #features)` of type torch.float32\n",
    "    Returns:\n",
    "        kernel function values for all pairs of samples from x_1 and x_2\n",
    "        torch.tensor of type torch.float32 shaped `(#samples_1, #samples_2)`\n",
    "    '''\n",
    "    distances = torch.exp(-torch.cdist(x_1, x_2) ** 2 / (2 * sigma ** 2))\n",
    "    return torch.Tensor(distances).type(torch.float32)"
   ]
  },
  {
   "cell_type": "markdown",
   "metadata": {},
   "source": [
    "### Test 0: Initialization (0.01 points)"
   ]
  },
  {
   "cell_type": "code",
   "execution_count": null,
   "metadata": {
    "deletable": false,
    "editable": false,
    "nbgrader": {
     "cell_type": "code",
     "checksum": "5f87629291b35b31fb9f91f4a61c7e28",
     "grade": true,
     "grade_id": "cell-68578dd758ce6174",
     "locked": true,
     "points": 0.01,
     "schema_version": 3,
     "solution": false,
     "task": false
    }
   },
   "outputs": [],
   "source": [
    "# do not change this cell\n",
    "from sklearn.datasets import make_circles\n",
    "X, y = make_circles(150, factor=.1, noise=.1, random_state=42)\n",
    "\n"
   ]
  },
  {
   "cell_type": "markdown",
   "metadata": {},
   "source": [
    "### Test 1: SVM accuracy (0.69 points)"
   ]
  },
  {
   "cell_type": "code",
   "execution_count": null,
   "metadata": {
    "deletable": false,
    "editable": false,
    "nbgrader": {
     "cell_type": "code",
     "checksum": "2e3c1fad99095246f9aab0334f14512a",
     "grade": true,
     "grade_id": "cell-1759990cd7cea5ce",
     "locked": true,
     "points": 0.69,
     "schema_version": 3,
     "solution": false,
     "task": false
    }
   },
   "outputs": [],
   "source": [
    "X_test, y_test = X[100:], y[100:]\n",
    "X, y = X[:100], y[:100]\n",
    "y[y==0] = -1 # for convenience with formulas\n",
    "y_test[y_test==0] = -1\n",
    "clf = SVM(epochs=150, lr=0.1, batch_size=20, verbose=False, kernel_function=rbf)\n",
    "clf.fit(X, y)\n",
    "pred = clf.predict(X_test)\n",
    "assert accuracy_score(y_test, pred) > 0.95"
   ]
  },
  {
   "cell_type": "markdown",
   "metadata": {},
   "source": [
    "### Test 2: Kernel (0.3 points)"
   ]
  },
  {
   "cell_type": "code",
   "execution_count": null,
   "metadata": {
    "deletable": false,
    "editable": false,
    "nbgrader": {
     "cell_type": "code",
     "checksum": "a296d1662f5027b9b8727cd724f19ab5",
     "grade": true,
     "grade_id": "cell-a92ec82e4098bdd2",
     "locked": true,
     "points": 0.3,
     "schema_version": 3,
     "solution": false,
     "task": false
    }
   },
   "outputs": [],
   "source": [
    "assert (np.allclose(rbf(X_kernel, X_kernel).detach().cpu().numpy(), np.array([[1.0000e+00, 2.2897e-11],[2.2897e-11, 1.0000e+00]])))"
   ]
  }
 ],
 "metadata": {
  "kernelspec": {
   "display_name": "Python 3.11.0rc2 64-bit",
   "language": "python",
   "name": "python3"
  },
  "language_info": {
   "codemirror_mode": {
    "name": "ipython",
    "version": 3
   },
   "file_extension": ".py",
   "mimetype": "text/x-python",
   "name": "python",
   "nbconvert_exporter": "python",
   "pygments_lexer": "ipython3",
   "version": "3.11.0"
  },
  "vscode": {
   "interpreter": {
    "hash": "ead1b95f633dc9c51826328e1846203f51a198c6fb5f2884a80417ba131d4e82"
   }
  }
 },
 "nbformat": 4,
 "nbformat_minor": 5
}
